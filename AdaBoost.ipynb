{
 "cells": [
  {
   "cell_type": "code",
   "execution_count": 8,
   "metadata": {},
   "outputs": [],
   "source": [
    "import numpy as np\n",
    "import pandas as pd\n",
    "from sklearn.ensemble import AdaBoostClassifier\n",
    "from sklearn.model_selection import train_test_split, RandomizedSearchCV\n",
    "from sklearn.metrics import classification_report\n",
    "from sklearn.metrics import accuracy_score, roc_auc_score, roc_curve, auc, confusion_matrix, make_scorer\n",
    "import matplotlib\n",
    "import matplotlib.pyplot as plt\n",
    "import seaborn as sns\n",
    "plt.style.use('ggplot')\n",
    "matplotlib.rcParams['font.sans-serif'] = ['SimHei']\n",
    "matplotlib.rcParams['axes.unicode_minus']=False\n",
    "\n",
    "import warnings\n",
    "warnings.filterwarnings('ignore')\n",
    "\n",
    "pd.set_option('display.max_columns', None)\n",
    "pd.set_option('display.max_rows', None)\n",
    "pd.set_option('max_colwidth',100)"
   ]
  },
  {
   "cell_type": "code",
   "execution_count": 2,
   "metadata": {},
   "outputs": [],
   "source": [
    "train = pd.read_csv('./data/train.csv', index_col='id')\n",
    "test = pd.read_csv('./data/test.csv', index_col='id')"
   ]
  },
  {
   "cell_type": "code",
   "execution_count": 3,
   "metadata": {},
   "outputs": [],
   "source": [
    "genetic_selected_names = ['ptt_min','inr_max','calcium_min.1','temperature_mean','glucose_min','glucose_mean','weight_admit','aniongap_max','aniongap_min','potassium_min.1','bicarbonate_max.1','chloride_max.1','gcs_verbal','hemoglobin_min.1','hematocrit_min.1','bun_max','gcs_eyes','resp_rate_max','resp_rate_min','spo2_mean','spo2_min','dbp_min','sbp_mean','sbp_min','heart_rate_max','heart_rate_mean','race','admission_age']\n",
    "genetic_selected_names.append('aki')\n",
    "train = train.loc[:, genetic_selected_names]\n",
    "test = test.loc[:, genetic_selected_names]"
   ]
  },
  {
   "cell_type": "markdown",
   "metadata": {},
   "source": [
    "## Try"
   ]
  },
  {
   "cell_type": "code",
   "execution_count": 25,
   "metadata": {},
   "outputs": [],
   "source": [
    "y = train['aki'].astype(float)\n",
    "X = train.drop(['aki'], axis=1)"
   ]
  },
  {
   "cell_type": "code",
   "execution_count": 26,
   "metadata": {},
   "outputs": [],
   "source": [
    "def train_model(df, model):\n",
    "    y = df['aki'].astype(float)\n",
    "    X = df.drop(['aki'], axis=1)\n",
    "    X_train, X_test, y_train, y_test = train_test_split(X, y, test_size=0.2, random_state=20)\n",
    "    model.fit(X_train, y_train)\n",
    "    y_pred = model.predict(X_test)\n",
    "    accuracy = accuracy_score(y_test, y_pred)\n",
    "    print(\"Accuracy:\", accuracy)\n",
    "    print(classification_report(y_test, y_pred))"
   ]
  },
  {
   "cell_type": "code",
   "execution_count": 27,
   "metadata": {},
   "outputs": [
    {
     "name": "stdout",
     "output_type": "stream",
     "text": [
      "Accuracy: 0.4741085271317829\n",
      "              precision    recall  f1-score   support\n",
      "\n",
      "         0.0       0.51      0.70      0.59      3157\n",
      "         1.0       0.39      0.00      0.01      1904\n",
      "         2.0       0.44      0.59      0.50      3059\n",
      "         3.0       0.47      0.37      0.42      1555\n",
      "\n",
      "    accuracy                           0.47      9675\n",
      "   macro avg       0.45      0.42      0.38      9675\n",
      "weighted avg       0.46      0.47      0.42      9675\n",
      "\n"
     ]
    }
   ],
   "source": [
    "model = AdaBoostClassifier()\n",
    "train_model(train, model)\n"
   ]
  },
  {
   "cell_type": "code",
   "execution_count": 50,
   "metadata": {},
   "outputs": [],
   "source": [
    "aa = train[train[\"aki\"].isin([0, 1])]"
   ]
  },
  {
   "cell_type": "code",
   "execution_count": 51,
   "metadata": {},
   "outputs": [
    {
     "name": "stdout",
     "output_type": "stream",
     "text": [
      "Accuracy: 0.6624066063704286\n",
      "              precision    recall  f1-score   support\n",
      "\n",
      "         0.0       0.69      0.85      0.76      3242\n",
      "         1.0       0.56      0.33      0.41      1844\n",
      "\n",
      "    accuracy                           0.66      5086\n",
      "   macro avg       0.62      0.59      0.59      5086\n",
      "weighted avg       0.64      0.66      0.64      5086\n",
      "\n"
     ]
    }
   ],
   "source": [
    "model = AdaBoostClassifier()\n",
    "train_model(aa, model)"
   ]
  },
  {
   "cell_type": "code",
   "execution_count": 52,
   "metadata": {},
   "outputs": [],
   "source": [
    "def ttt(train, y_val):\n",
    "    aa = train[train[\"aki\"].isin(y_val)]\n",
    "    model = AdaBoostClassifier()\n",
    "    train_model(aa, model)"
   ]
  },
  {
   "cell_type": "code",
   "execution_count": 53,
   "metadata": {},
   "outputs": [
    {
     "name": "stdout",
     "output_type": "stream",
     "text": [
      "Accuracy: 0.6337092227144583\n",
      "              precision    recall  f1-score   support\n",
      "\n",
      "         1.0       0.52      0.25      0.33      1860\n",
      "         2.0       0.66      0.87      0.75      3106\n",
      "\n",
      "    accuracy                           0.63      4966\n",
      "   macro avg       0.59      0.56      0.54      4966\n",
      "weighted avg       0.61      0.63      0.59      4966\n",
      "\n"
     ]
    }
   ],
   "source": [
    "ttt(train, [1,2])"
   ]
  },
  {
   "cell_type": "code",
   "execution_count": 40,
   "metadata": {},
   "outputs": [],
   "source": [
    "y = aa['aki'].astype(float)\n",
    "X = aa.drop(['aki'], axis=1)"
   ]
  },
  {
   "cell_type": "code",
   "execution_count": 47,
   "metadata": {},
   "outputs": [
    {
     "data": {
      "text/plain": [
       "(25429, 63)"
      ]
     },
     "execution_count": 47,
     "metadata": {},
     "output_type": "execute_result"
    }
   ],
   "source": [
    "X.shape"
   ]
  },
  {
   "cell_type": "code",
   "execution_count": 54,
   "metadata": {},
   "outputs": [
    {
     "data": {
      "text/html": [
       "<style>#sk-container-id-6 {color: black;background-color: white;}#sk-container-id-6 pre{padding: 0;}#sk-container-id-6 div.sk-toggleable {background-color: white;}#sk-container-id-6 label.sk-toggleable__label {cursor: pointer;display: block;width: 100%;margin-bottom: 0;padding: 0.3em;box-sizing: border-box;text-align: center;}#sk-container-id-6 label.sk-toggleable__label-arrow:before {content: \"▸\";float: left;margin-right: 0.25em;color: #696969;}#sk-container-id-6 label.sk-toggleable__label-arrow:hover:before {color: black;}#sk-container-id-6 div.sk-estimator:hover label.sk-toggleable__label-arrow:before {color: black;}#sk-container-id-6 div.sk-toggleable__content {max-height: 0;max-width: 0;overflow: hidden;text-align: left;background-color: #f0f8ff;}#sk-container-id-6 div.sk-toggleable__content pre {margin: 0.2em;color: black;border-radius: 0.25em;background-color: #f0f8ff;}#sk-container-id-6 input.sk-toggleable__control:checked~div.sk-toggleable__content {max-height: 200px;max-width: 100%;overflow: auto;}#sk-container-id-6 input.sk-toggleable__control:checked~label.sk-toggleable__label-arrow:before {content: \"▾\";}#sk-container-id-6 div.sk-estimator input.sk-toggleable__control:checked~label.sk-toggleable__label {background-color: #d4ebff;}#sk-container-id-6 div.sk-label input.sk-toggleable__control:checked~label.sk-toggleable__label {background-color: #d4ebff;}#sk-container-id-6 input.sk-hidden--visually {border: 0;clip: rect(1px 1px 1px 1px);clip: rect(1px, 1px, 1px, 1px);height: 1px;margin: -1px;overflow: hidden;padding: 0;position: absolute;width: 1px;}#sk-container-id-6 div.sk-estimator {font-family: monospace;background-color: #f0f8ff;border: 1px dotted black;border-radius: 0.25em;box-sizing: border-box;margin-bottom: 0.5em;}#sk-container-id-6 div.sk-estimator:hover {background-color: #d4ebff;}#sk-container-id-6 div.sk-parallel-item::after {content: \"\";width: 100%;border-bottom: 1px solid gray;flex-grow: 1;}#sk-container-id-6 div.sk-label:hover label.sk-toggleable__label {background-color: #d4ebff;}#sk-container-id-6 div.sk-serial::before {content: \"\";position: absolute;border-left: 1px solid gray;box-sizing: border-box;top: 0;bottom: 0;left: 50%;z-index: 0;}#sk-container-id-6 div.sk-serial {display: flex;flex-direction: column;align-items: center;background-color: white;padding-right: 0.2em;padding-left: 0.2em;position: relative;}#sk-container-id-6 div.sk-item {position: relative;z-index: 1;}#sk-container-id-6 div.sk-parallel {display: flex;align-items: stretch;justify-content: center;background-color: white;position: relative;}#sk-container-id-6 div.sk-item::before, #sk-container-id-6 div.sk-parallel-item::before {content: \"\";position: absolute;border-left: 1px solid gray;box-sizing: border-box;top: 0;bottom: 0;left: 50%;z-index: -1;}#sk-container-id-6 div.sk-parallel-item {display: flex;flex-direction: column;z-index: 1;position: relative;background-color: white;}#sk-container-id-6 div.sk-parallel-item:first-child::after {align-self: flex-end;width: 50%;}#sk-container-id-6 div.sk-parallel-item:last-child::after {align-self: flex-start;width: 50%;}#sk-container-id-6 div.sk-parallel-item:only-child::after {width: 0;}#sk-container-id-6 div.sk-dashed-wrapped {border: 1px dashed gray;margin: 0 0.4em 0.5em 0.4em;box-sizing: border-box;padding-bottom: 0.4em;background-color: white;}#sk-container-id-6 div.sk-label label {font-family: monospace;font-weight: bold;display: inline-block;line-height: 1.2em;}#sk-container-id-6 div.sk-label-container {text-align: center;}#sk-container-id-6 div.sk-container {/* jupyter's `normalize.less` sets `[hidden] { display: none; }` but bootstrap.min.css set `[hidden] { display: none !important; }` so we also need the `!important` here to be able to override the default hidden behavior on the sphinx rendered scikit-learn.org. See: https://github.com/scikit-learn/scikit-learn/issues/21755 */display: inline-block !important;position: relative;}#sk-container-id-6 div.sk-text-repr-fallback {display: none;}</style><div id=\"sk-container-id-6\" class=\"sk-top-container\"><div class=\"sk-text-repr-fallback\"><pre>RandomizedSearchCV(cv=5, estimator=AdaBoostClassifier(random_state=20),\n",
       "                   param_distributions={&#x27;algorithm&#x27;: [&#x27;SAMME&#x27;, &#x27;SAMME.R&#x27;],\n",
       "                                        &#x27;learning_rate&#x27;: [0.01, 0.1, 1.0],\n",
       "                                        &#x27;n_estimators&#x27;: [300, 350, 400, 450]},\n",
       "                   scoring=&#x27;accuracy&#x27;)</pre><b>In a Jupyter environment, please rerun this cell to show the HTML representation or trust the notebook. <br />On GitHub, the HTML representation is unable to render, please try loading this page with nbviewer.org.</b></div><div class=\"sk-container\" hidden><div class=\"sk-item sk-dashed-wrapped\"><div class=\"sk-label-container\"><div class=\"sk-label sk-toggleable\"><input class=\"sk-toggleable__control sk-hidden--visually\" id=\"sk-estimator-id-14\" type=\"checkbox\" ><label for=\"sk-estimator-id-14\" class=\"sk-toggleable__label sk-toggleable__label-arrow\">RandomizedSearchCV</label><div class=\"sk-toggleable__content\"><pre>RandomizedSearchCV(cv=5, estimator=AdaBoostClassifier(random_state=20),\n",
       "                   param_distributions={&#x27;algorithm&#x27;: [&#x27;SAMME&#x27;, &#x27;SAMME.R&#x27;],\n",
       "                                        &#x27;learning_rate&#x27;: [0.01, 0.1, 1.0],\n",
       "                                        &#x27;n_estimators&#x27;: [300, 350, 400, 450]},\n",
       "                   scoring=&#x27;accuracy&#x27;)</pre></div></div></div><div class=\"sk-parallel\"><div class=\"sk-parallel-item\"><div class=\"sk-item\"><div class=\"sk-label-container\"><div class=\"sk-label sk-toggleable\"><input class=\"sk-toggleable__control sk-hidden--visually\" id=\"sk-estimator-id-15\" type=\"checkbox\" ><label for=\"sk-estimator-id-15\" class=\"sk-toggleable__label sk-toggleable__label-arrow\">estimator: AdaBoostClassifier</label><div class=\"sk-toggleable__content\"><pre>AdaBoostClassifier(random_state=20)</pre></div></div></div><div class=\"sk-serial\"><div class=\"sk-item\"><div class=\"sk-estimator sk-toggleable\"><input class=\"sk-toggleable__control sk-hidden--visually\" id=\"sk-estimator-id-16\" type=\"checkbox\" ><label for=\"sk-estimator-id-16\" class=\"sk-toggleable__label sk-toggleable__label-arrow\">AdaBoostClassifier</label><div class=\"sk-toggleable__content\"><pre>AdaBoostClassifier(random_state=20)</pre></div></div></div></div></div></div></div></div></div></div>"
      ],
      "text/plain": [
       "RandomizedSearchCV(cv=5, estimator=AdaBoostClassifier(random_state=20),\n",
       "                   param_distributions={'algorithm': ['SAMME', 'SAMME.R'],\n",
       "                                        'learning_rate': [0.01, 0.1, 1.0],\n",
       "                                        'n_estimators': [300, 350, 400, 450]},\n",
       "                   scoring='accuracy')"
      ]
     },
     "execution_count": 54,
     "metadata": {},
     "output_type": "execute_result"
    }
   ],
   "source": [
    "param_dist = {\n",
    "    \"n_estimators\": [300, 350, 400, 450],\n",
    "    \"learning_rate\": [0.01, 0.1, 1.0],\n",
    "    \"algorithm\":[\"SAMME\", \"SAMME.R\"]\n",
    "}\n",
    "model = AdaBoostClassifier(random_state=20)\n",
    "search = RandomizedSearchCV(estimator=model, param_distributions=param_dist, scoring=\"accuracy\", cv=5, n_iter=10)\n",
    "search.fit(X, y)"
   ]
  },
  {
   "cell_type": "code",
   "execution_count": 55,
   "metadata": {},
   "outputs": [
    {
     "data": {
      "text/plain": [
       "{'n_estimators': 400, 'learning_rate': 0.1, 'algorithm': 'SAMME.R'}"
      ]
     },
     "execution_count": 55,
     "metadata": {},
     "output_type": "execute_result"
    }
   ],
   "source": [
    "search.best_params_"
   ]
  },
  {
   "cell_type": "code",
   "execution_count": 56,
   "metadata": {},
   "outputs": [
    {
     "data": {
      "text/plain": [
       "0.6632589122936041"
      ]
     },
     "execution_count": 56,
     "metadata": {},
     "output_type": "execute_result"
    }
   ],
   "source": [
    "search.best_score_"
   ]
  },
  {
   "cell_type": "code",
   "execution_count": 18,
   "metadata": {},
   "outputs": [
    {
     "name": "stdout",
     "output_type": "stream",
     "text": [
      "Accuracy: 0.4793798449612403\n"
     ]
    }
   ],
   "source": [
    "best_model = search.best_estimator_\n",
    "y_pred = best_model.predict(X_test)\n",
    "accuracy = accuracy_score(y_test, y_pred)\n",
    "print(f\"Accuracy: {accuracy}\")"
   ]
  },
  {
   "cell_type": "code",
   "execution_count": 19,
   "metadata": {},
   "outputs": [
    {
     "name": "stdout",
     "output_type": "stream",
     "text": [
      "              precision    recall  f1-score   support\n",
      "\n",
      "         0.0       0.52      0.70      0.60      3157\n",
      "         1.0       0.00      0.00      0.00      1904\n",
      "         2.0       0.43      0.65      0.52      3059\n",
      "         3.0       0.54      0.27      0.36      1555\n",
      "\n",
      "    accuracy                           0.48      9675\n",
      "   macro avg       0.37      0.41      0.37      9675\n",
      "weighted avg       0.39      0.48      0.42      9675\n",
      "\n"
     ]
    }
   ],
   "source": [
    "print(classification_report(y_test, y_pred))"
   ]
  },
  {
   "cell_type": "markdown",
   "metadata": {},
   "source": [
    "## Adjust Parameters"
   ]
  },
  {
   "cell_type": "markdown",
   "metadata": {},
   "source": [
    "### Draw parameters with the Accurancy 2D curve to select the appropriate interval"
   ]
  },
  {
   "cell_type": "code",
   "execution_count": 4,
   "metadata": {},
   "outputs": [],
   "source": [
    "y_train = train['aki'].astype(float)\n",
    "X_train = train.drop(['aki'], axis=1)\n",
    "y_test = test['aki'].astype(float)\n",
    "X_test = test.drop(['aki'], axis=1)\n",
    "\n",
    "def train_rf(X_train, y_train, parameters): \n",
    "    rf = AdaBoostClassifier(\n",
    "        n_estimators = parameters['n_estimators'],\n",
    "        learning_rate = parameters['learning_rate'],\n",
    "        algorithm = parameters['algorithm'],\n",
    "    )\n",
    "    rf.fit(X_train, y_train)\n",
    "    return accuracy_score(y_test,rf.predict(X_test))"
   ]
  },
  {
   "cell_type": "code",
   "execution_count": 5,
   "metadata": {},
   "outputs": [
    {
     "data": {
      "image/png": "[encoded data removed]",
      "text/plain": [
       "<Figure size 640x480 with 1 Axes>"
      ]
     },
     "metadata": {},
     "output_type": "display_data"
    }
   ],
   "source": [
    "parameters = {       \n",
    "    'n_estimators': 50,\n",
    "    \"learning_rate\": 1.0,\n",
    "    \"algorithm\": \"SAMME.R\"\n",
    "}\n",
    "accurancyList = {\n",
    "    'params':[],\n",
    "    'precision':[]\n",
    "}\n",
    "for n in range(1,201):\n",
    "    parameters['n_estimators'] = n\n",
    "    accurancyList['params'].append(parameters)\n",
    "    accurancyList['precision'].append(train_rf(X_train, y_train, parameters))\n",
    "\n",
    "plt.plot(range(1,201),accurancyList['precision'])\n",
    "plt.xlabel('n_estimators')\n",
    "plt.ylabel('accurancy')\n",
    "plt.title('Accurancy n_estimator')\n",
    "plt.show()"
   ]
  },
  {
   "cell_type": "code",
   "execution_count": 6,
   "metadata": {},
   "outputs": [
    {
     "data": {
      "image/png": "[encoded data removed]",
      "text/plain": [
       "<Figure size 640x480 with 1 Axes>"
      ]
     },
     "metadata": {},
     "output_type": "display_data"
    }
   ],
   "source": [
    "parameters = {       \n",
    "    'n_estimators': 50,\n",
    "    \"learning_rate\": 1.0,\n",
    "    \"algorithm\": \"SAMME.R\"\n",
    "}\n",
    "accurancyList = {\n",
    "    'params':[],\n",
    "    'precision':[]\n",
    "}\n",
    "for n in [0.01, 0.02, 0.03, 0.05, 0.07, 0.1, 0.3, 0.5, 0.7, 1.0, 1.5, 2.0, 5.0, 10, 20, 50]:\n",
    "    parameters['learning_rate'] = n\n",
    "    accurancyList['params'].append(parameters)\n",
    "    accurancyList['precision'].append(train_rf(X_train, y_train, parameters))\n",
    "\n",
    "plt.plot([str(i) for i in [0.01, 0.02, 0.03, 0.05, 0.07, 0.1, 0.3, 0.5, 0.7, 1.0, 1.5, 2.0, 5.0, 10, 20, 50]],accurancyList['precision'])\n",
    "plt.xlabel('learning_rate')\n",
    "plt.ylabel('accurancy')\n",
    "plt.title('Accurancy learning_rate')\n",
    "plt.show()"
   ]
  },
  {
   "cell_type": "code",
   "execution_count": 8,
   "metadata": {},
   "outputs": [
    {
     "data": {
      "image/png": "[encoded data removed]",
      "text/plain": [
       "<Figure size 640x480 with 1 Axes>"
      ]
     },
     "metadata": {},
     "output_type": "display_data"
    }
   ],
   "source": [
    "parameters = {       \n",
    "    'n_estimators': 50,\n",
    "    \"learning_rate\": 1.0,\n",
    "    \"algorithm\": \"SAMME.R\"\n",
    "}\n",
    "accurancyList = {\n",
    "    'params':[],\n",
    "    'precision':[]\n",
    "}\n",
    "for n in [\"SAMME\", \"SAMME.R\"]:\n",
    "    parameters['algorithm'] = n\n",
    "    accurancyList['params'].append(parameters)\n",
    "    accurancyList['precision'].append(train_rf(X_train, y_train, parameters))\n",
    "\n",
    "plt.plot([\"SAMME\", \"SAMME.R\"],accurancyList['precision'])\n",
    "plt.xlabel('algorithm')\n",
    "plt.ylabel('accurancy')\n",
    "plt.title('Accurancy algorithm')\n",
    "plt.show()"
   ]
  },
  {
   "cell_type": "markdown",
   "metadata": {},
   "source": [
    "### RandomizedSearch"
   ]
  },
  {
   "cell_type": "code",
   "execution_count": 14,
   "metadata": {},
   "outputs": [
    {
     "name": "stdout",
     "output_type": "stream",
     "text": [
      "best_params {'n_estimators': 163, 'learning_rate': 0.47000000000000003}\n",
      "best_score 0.4818498578197027\n",
      "------------------------------------------------------------------\n",
      "AdaBoost AUC (Macro): 0.6718850181982103\n",
      "              precision    recall  f1-score   support\n",
      "\n",
      "         0.0       0.49      0.64      0.56       808\n",
      "         1.0       0.25      0.00      0.00       461\n",
      "         2.0       0.42      0.57      0.48       837\n",
      "         3.0       0.50      0.39      0.44       440\n",
      "\n",
      "    accuracy                           0.46      2546\n",
      "   macro avg       0.42      0.40      0.37      2546\n",
      "weighted avg       0.43      0.46      0.41      2546\n",
      "\n",
      "------------------------------------------------------------------\n",
      "train accuracy: 0.4866870632984661, test accuracy: 0.4595443833464258\n"
     ]
    }
   ],
   "source": [
    "param_dist = {\n",
    "    'n_estimators': np.arange(155, 175, 2),\n",
    "    \"learning_rate\": np.arange(0.45, 0.55, 0.01),\n",
    "}\n",
    "model = AdaBoostClassifier(algorithm=\"SAMME.R\", random_state=20)\n",
    "rs = RandomizedSearchCV(estimator=model, param_distributions=param_dist, scoring=\"accuracy\", cv=5, n_iter=10)\n",
    "rs.fit(X_train, y_train)\n",
    "\n",
    "print(\"best_params\", rs.best_params_)\n",
    "print(\"best_score\", rs.best_score_)\n",
    "print('------------------------------------------------------------------')\n",
    "best_model = rs.best_estimator_\n",
    "y_pred_train = best_model.predict(X_train)\n",
    "y_pred_test = best_model.predict(X_test)\n",
    "accuracy_train = accuracy_score(y_train, y_pred_train)\n",
    "accuracy_test = accuracy_score(y_test, y_pred_test)\n",
    "\n",
    "y_pred_proba = best_model.predict_proba(X_test)\n",
    "auc_macro = roc_auc_score(y_test, y_pred_proba, multi_class=\"ovr\", average=\"macro\")\n",
    "print(\"AdaBoost AUC (Macro):\", auc_macro)\n",
    "print(classification_report(y_test, y_pred_test))\n",
    "print('------------------------------------------------------------------')\n",
    "print(f'train accuracy: {accuracy_train}, test accuracy: {accuracy_test}')"
   ]
  },
  {
   "cell_type": "code",
   "execution_count": 15,
   "metadata": {},
   "outputs": [
    {
     "data": {
      "image/png": "[encoded data removed]",
      "text/plain": [
       "<Figure size 1000x500 with 2 Axes>"
      ]
     },
     "metadata": {},
     "output_type": "display_data"
    }
   ],
   "source": [
    "conf_matrix = confusion_matrix(y_test, y_pred_test)\n",
    "plt.figure(figsize=(10, 5))\n",
    "sns.heatmap(conf_matrix, annot=True, fmt=\"d\", cmap=\"Blues\")\n",
    "plt.xlabel(\"Predicted labels\")\n",
    "plt.ylabel(\"True labels\")\n",
    "plt.title(\"Confusion Matrix\")\n",
    "plt.show()"
   ]
  },
  {
   "cell_type": "code",
   "execution_count": null,
   "metadata": {},
   "outputs": [],
   "source": []
  },
  {
   "cell_type": "markdown",
   "metadata": {},
   "source": [
    "## Sample imbalance problem"
   ]
  },
  {
   "cell_type": "markdown",
   "metadata": {},
   "source": [
    "### Smote"
   ]
  },
  {
   "cell_type": "code",
   "execution_count": 4,
   "metadata": {},
   "outputs": [],
   "source": [
    "def train_model(train, test, model):\n",
    "    y = train['aki'].astype(float)\n",
    "    X = train.drop(['aki'], axis=1)\n",
    "    X_train, X_valid, y_train, y_valid = train_test_split(X, y, test_size=0.2, random_state=20)\n",
    "    model.fit(X_train, y_train)\n",
    "    y_pred = model.predict(X_valid)\n",
    "    accuracy = accuracy_score(y_valid, y_pred)\n",
    "    print(\"valid accuracy:\", accuracy)\n",
    "    print(classification_report(y_valid, y_pred))\n",
    "\n",
    "    y_pred_proba = model.predict_proba(X_valid)\n",
    "    auc_macro = roc_auc_score(y_valid, y_pred_proba, multi_class=\"ovr\", average=\"macro\")\n",
    "    print(\"DecisionTree Valid AUC (Macro):\", auc_macro)\n",
    "\n",
    "    print('------------------------------------------------------------------')\n",
    "    y_test = test['aki'].astype(float)\n",
    "    X_test = test.drop(['aki'], axis=1)\n",
    "    best_model = model\n",
    "    y_pred_train = best_model.predict(X_train)\n",
    "    y_pred_test = best_model.predict(X_test)\n",
    "    accuracy_train = accuracy_score(y_train, y_pred_train)\n",
    "    accuracy_test = accuracy_score(y_test, y_pred_test)\n",
    "\n",
    "    y_pred_proba = best_model.predict_proba(X_test)\n",
    "    auc_macro = roc_auc_score(y_test, y_pred_proba, multi_class=\"ovr\", average=\"macro\")\n",
    "    print(\"DecisionTree Test AUC (Macro):\", auc_macro)\n",
    "    print(classification_report(y_test, y_pred_test))\n",
    "    print('------------------------------------------------------------------')\n",
    "    print(f'train accuracy: {accuracy_train}, test accuracy: {accuracy_test}')\n",
    "    return model"
   ]
  },
  {
   "cell_type": "code",
   "execution_count": 5,
   "metadata": {},
   "outputs": [],
   "source": [
    "y_train = train['aki'].astype(float)\n",
    "X_train = train.drop(['aki'], axis=1)\n",
    "y_test = test['aki'].astype(float)\n",
    "X_test = test.drop(['aki'], axis=1)"
   ]
  },
  {
   "cell_type": "code",
   "execution_count": 6,
   "metadata": {},
   "outputs": [],
   "source": [
    "from imblearn.over_sampling import SMOTE\n",
    "smote = SMOTE(random_state=20)\n",
    "X_train_resampled, y_train_resampled = smote.fit_resample(X_train, y_train)\n",
    "X_train_resampled = pd.concat([X_train_resampled, y_train_resampled], axis=1)"
   ]
  },
  {
   "cell_type": "code",
   "execution_count": 7,
   "metadata": {},
   "outputs": [
    {
     "name": "stdout",
     "output_type": "stream",
     "text": [
      "valid accuracy: 0.49711882884285935\n",
      "              precision    recall  f1-score   support\n",
      "\n",
      "         0.0       0.51      0.61      0.56      3192\n",
      "         1.0       0.48      0.28      0.35      3285\n",
      "         2.0       0.41      0.47      0.44      3144\n",
      "         3.0       0.57      0.64      0.60      3221\n",
      "\n",
      "    accuracy                           0.50     12842\n",
      "   macro avg       0.49      0.50      0.49     12842\n",
      "weighted avg       0.50      0.50      0.49     12842\n",
      "\n",
      "DecisionTree Valid AUC (Macro): 0.7377460237863622\n",
      "------------------------------------------------------------------\n",
      "DecisionTree Test AUC (Macro): 0.6629042064464253\n",
      "              precision    recall  f1-score   support\n",
      "\n",
      "         0.0       0.52      0.57      0.54       808\n",
      "         1.0       0.19      0.10      0.13       461\n",
      "         2.0       0.44      0.44      0.44       837\n",
      "         3.0       0.41      0.54      0.47       440\n",
      "\n",
      "    accuracy                           0.44      2546\n",
      "   macro avg       0.39      0.41      0.39      2546\n",
      "weighted avg       0.41      0.44      0.42      2546\n",
      "\n",
      "------------------------------------------------------------------\n",
      "train accuracy: 0.5035821360432972, test accuracy: 0.43676355066771405\n"
     ]
    },
    {
     "data": {
      "text/html": [
       "<style>#sk-container-id-1 {color: black;background-color: white;}#sk-container-id-1 pre{padding: 0;}#sk-container-id-1 div.sk-toggleable {background-color: white;}#sk-container-id-1 label.sk-toggleable__label {cursor: pointer;display: block;width: 100%;margin-bottom: 0;padding: 0.3em;box-sizing: border-box;text-align: center;}#sk-container-id-1 label.sk-toggleable__label-arrow:before {content: \"▸\";float: left;margin-right: 0.25em;color: #696969;}#sk-container-id-1 label.sk-toggleable__label-arrow:hover:before {color: black;}#sk-container-id-1 div.sk-estimator:hover label.sk-toggleable__label-arrow:before {color: black;}#sk-container-id-1 div.sk-toggleable__content {max-height: 0;max-width: 0;overflow: hidden;text-align: left;background-color: #f0f8ff;}#sk-container-id-1 div.sk-toggleable__content pre {margin: 0.2em;color: black;border-radius: 0.25em;background-color: #f0f8ff;}#sk-container-id-1 input.sk-toggleable__control:checked~div.sk-toggleable__content {max-height: 200px;max-width: 100%;overflow: auto;}#sk-container-id-1 input.sk-toggleable__control:checked~label.sk-toggleable__label-arrow:before {content: \"▾\";}#sk-container-id-1 div.sk-estimator input.sk-toggleable__control:checked~label.sk-toggleable__label {background-color: #d4ebff;}#sk-container-id-1 div.sk-label input.sk-toggleable__control:checked~label.sk-toggleable__label {background-color: #d4ebff;}#sk-container-id-1 input.sk-hidden--visually {border: 0;clip: rect(1px 1px 1px 1px);clip: rect(1px, 1px, 1px, 1px);height: 1px;margin: -1px;overflow: hidden;padding: 0;position: absolute;width: 1px;}#sk-container-id-1 div.sk-estimator {font-family: monospace;background-color: #f0f8ff;border: 1px dotted black;border-radius: 0.25em;box-sizing: border-box;margin-bottom: 0.5em;}#sk-container-id-1 div.sk-estimator:hover {background-color: #d4ebff;}#sk-container-id-1 div.sk-parallel-item::after {content: \"\";width: 100%;border-bottom: 1px solid gray;flex-grow: 1;}#sk-container-id-1 div.sk-label:hover label.sk-toggleable__label {background-color: #d4ebff;}#sk-container-id-1 div.sk-serial::before {content: \"\";position: absolute;border-left: 1px solid gray;box-sizing: border-box;top: 0;bottom: 0;left: 50%;z-index: 0;}#sk-container-id-1 div.sk-serial {display: flex;flex-direction: column;align-items: center;background-color: white;padding-right: 0.2em;padding-left: 0.2em;position: relative;}#sk-container-id-1 div.sk-item {position: relative;z-index: 1;}#sk-container-id-1 div.sk-parallel {display: flex;align-items: stretch;justify-content: center;background-color: white;position: relative;}#sk-container-id-1 div.sk-item::before, #sk-container-id-1 div.sk-parallel-item::before {content: \"\";position: absolute;border-left: 1px solid gray;box-sizing: border-box;top: 0;bottom: 0;left: 50%;z-index: -1;}#sk-container-id-1 div.sk-parallel-item {display: flex;flex-direction: column;z-index: 1;position: relative;background-color: white;}#sk-container-id-1 div.sk-parallel-item:first-child::after {align-self: flex-end;width: 50%;}#sk-container-id-1 div.sk-parallel-item:last-child::after {align-self: flex-start;width: 50%;}#sk-container-id-1 div.sk-parallel-item:only-child::after {width: 0;}#sk-container-id-1 div.sk-dashed-wrapped {border: 1px dashed gray;margin: 0 0.4em 0.5em 0.4em;box-sizing: border-box;padding-bottom: 0.4em;background-color: white;}#sk-container-id-1 div.sk-label label {font-family: monospace;font-weight: bold;display: inline-block;line-height: 1.2em;}#sk-container-id-1 div.sk-label-container {text-align: center;}#sk-container-id-1 div.sk-container {/* jupyter's `normalize.less` sets `[hidden] { display: none; }` but bootstrap.min.css set `[hidden] { display: none !important; }` so we also need the `!important` here to be able to override the default hidden behavior on the sphinx rendered scikit-learn.org. See: https://github.com/scikit-learn/scikit-learn/issues/21755 */display: inline-block !important;position: relative;}#sk-container-id-1 div.sk-text-repr-fallback {display: none;}</style><div id=\"sk-container-id-1\" class=\"sk-top-container\"><div class=\"sk-text-repr-fallback\"><pre>AdaBoostClassifier(learning_rate=0.47, n_estimators=169, random_state=20)</pre><b>In a Jupyter environment, please rerun this cell to show the HTML representation or trust the notebook. <br />On GitHub, the HTML representation is unable to render, please try loading this page with nbviewer.org.</b></div><div class=\"sk-container\" hidden><div class=\"sk-item\"><div class=\"sk-estimator sk-toggleable\"><input class=\"sk-toggleable__control sk-hidden--visually\" id=\"sk-estimator-id-1\" type=\"checkbox\" checked><label for=\"sk-estimator-id-1\" class=\"sk-toggleable__label sk-toggleable__label-arrow\">AdaBoostClassifier</label><div class=\"sk-toggleable__content\"><pre>AdaBoostClassifier(learning_rate=0.47, n_estimators=169, random_state=20)</pre></div></div></div></div></div>"
      ],
      "text/plain": [
       "AdaBoostClassifier(learning_rate=0.47, n_estimators=169, random_state=20)"
      ]
     },
     "execution_count": 7,
     "metadata": {},
     "output_type": "execute_result"
    }
   ],
   "source": [
    "model = AdaBoostClassifier(algorithm=\"SAMME.R\", n_estimators=169, learning_rate=0.47, random_state=20)\n",
    "train_model(X_train_resampled, test, model)"
   ]
  },
  {
   "cell_type": "markdown",
   "metadata": {},
   "source": [
    "### Adjust evaluation index"
   ]
  },
  {
   "cell_type": "code",
   "execution_count": 9,
   "metadata": {},
   "outputs": [],
   "source": [
    "def multiclass_roc_auc_score(y_true, y_pred, average=\"macro\"):\n",
    "    return roc_auc_score(y_true, y_pred, average=average)\n",
    "\n",
    "multi_roc_auc = make_scorer(multiclass_roc_auc_score)"
   ]
  },
  {
   "cell_type": "code",
   "execution_count": 11,
   "metadata": {},
   "outputs": [],
   "source": [
    "y_train = X_train_resampled['aki'].astype(float)\n",
    "X_train = X_train_resampled.drop(['aki'], axis=1)"
   ]
  },
  {
   "cell_type": "code",
   "execution_count": 12,
   "metadata": {},
   "outputs": [
    {
     "name": "stdout",
     "output_type": "stream",
     "text": [
      "best_params {'n_estimators': 157, 'learning_rate': 0.51}\n",
      "best_score nan\n",
      "------------------------------------------------------------------\n",
      "AdaBoost AUC (Macro): 0.6626319742643392\n",
      "              precision    recall  f1-score   support\n",
      "\n",
      "         0.0       0.52      0.57      0.54       808\n",
      "         1.0       0.19      0.11      0.14       461\n",
      "         2.0       0.44      0.43      0.44       837\n",
      "         3.0       0.40      0.52      0.46       440\n",
      "\n",
      "    accuracy                           0.43      2546\n",
      "   macro avg       0.39      0.41      0.39      2546\n",
      "weighted avg       0.41      0.43      0.42      2546\n",
      "\n",
      "------------------------------------------------------------------\n",
      "train accuracy: 0.5027878146025417, test accuracy: 0.43205027494108406\n"
     ]
    }
   ],
   "source": [
    "param_dist = {\n",
    "    'n_estimators': np.arange(155, 175, 2),\n",
    "    \"learning_rate\": np.arange(0.45, 0.55, 0.01),\n",
    "}\n",
    "model = AdaBoostClassifier(algorithm=\"SAMME.R\", random_state=20)\n",
    "rs = RandomizedSearchCV(estimator=model, param_distributions=param_dist, scoring=multi_roc_auc, cv=5, n_iter=10, n_jobs=-1)\n",
    "rs.fit(X_train, y_train)\n",
    "\n",
    "print(\"best_params\", rs.best_params_)\n",
    "print(\"best_score\", rs.best_score_)\n",
    "print('------------------------------------------------------------------')\n",
    "best_model = rs.best_estimator_\n",
    "y_pred_train = best_model.predict(X_train)\n",
    "y_pred_test = best_model.predict(X_test)\n",
    "accuracy_train = accuracy_score(y_train, y_pred_train)\n",
    "accuracy_test = accuracy_score(y_test, y_pred_test)\n",
    "\n",
    "y_pred_proba = best_model.predict_proba(X_test)\n",
    "auc_macro = roc_auc_score(y_test, y_pred_proba, multi_class=\"ovr\", average=\"macro\")\n",
    "print(\"AdaBoost AUC (Macro):\", auc_macro)\n",
    "print(classification_report(y_test, y_pred_test))\n",
    "print('------------------------------------------------------------------')\n",
    "print(f'train accuracy: {accuracy_train}, test accuracy: {accuracy_test}')"
   ]
  },
  {
   "cell_type": "code",
   "execution_count": null,
   "metadata": {},
   "outputs": [],
   "source": []
  }
 ],
 "metadata": {
  "kernelspec": {
   "display_name": "ml",
   "language": "python",
   "name": "python3"
  },
  "language_info": {
   "codemirror_mode": {
    "name": "ipython",
    "version": 3
   },
   "file_extension": ".py",
   "mimetype": "text/x-python",
   "name": "python",
   "nbconvert_exporter": "python",
   "pygments_lexer": "ipython3",
   "version": "3.10.8"
  }
 },
 "nbformat": 4,
 "nbformat_minor": 2
}
